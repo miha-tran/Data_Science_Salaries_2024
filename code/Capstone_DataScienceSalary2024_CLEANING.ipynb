{
 "cells": [
  {
   "cell_type": "markdown",
   "metadata": {
    "colab_type": "text",
    "id": "ZE-SbhQ-kYLx"
   },
   "source": [
    "<div id=\"container\" style=\"position:relative;\">\n",
    "<div style=\"float:left\"><h1> Capstone: Data Science Salary 2024 | Minh Hai Tran_Part 1</h1></div>\n",
    "<div style=\"position:relative; float:right\"><img style=\"height:65px\" src=\"data:image/png;base64,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\" />\n",
    "</div>\n",
    "</div>"
   ]
  },
  {
   "cell_type": "markdown",
   "metadata": {},
   "source": [
    "-----------------------------------\n",
    "## Date March 2024\n",
    "## DATA CHOOSING AND CLEANING"
   ]
  },
  {
   "cell_type": "markdown",
   "metadata": {},
   "source": [
    "# Introduction\n",
    "\n",
    "In the dynamic field of data science, understanding salary trends is crucial for professionals and organizations. This dataset provides insights into Data Science Salaries from 2020 to 2024, offering valuable information on trends, regional variations, and factors influencing compensation for data enthusiasts, researchers, and industry professionals.\n",
    "\n",
    "# Impact\n",
    "This project is anticipated to bring tangible benefits to both society and businesses. By leveraging advanced technology, the aim is to assist companies in setting salaries more effectively, thereby increasing employee satisfaction and reducing turnover rates. This could potentially save businesses expenses associated with hiring and training new staff. Additionally, by streamlining the salary negotiation process, both employees and companies can save valuable time. Moreover, offering fair and competitive pay can help companies attract top talent, giving them a competitive edge in the market. In essence, the project aims to enhance the salary determination process for all stakeholders involvd\n",
    "\n",
    "# About data\n",
    "The primary dataset was multiple datasets sourced from ai-jobs.net and kaggle, consisting 9 datasets and will be cleaned in this part, 11 columns as data Dictionary below."
   ]
  },
  {
   "cell_type": "markdown",
   "metadata": {
    "tags": []
   },
   "source": [
    "#### Data Dictionary\r\n",
    "\n",
    "\n",
    "| Column Name       | Description                                                                                                        |\n",
    "|-------------------|--------------------------------------------------------------------------------------------------------------------|\n",
    "| work_year         | The year when the salary was paid.                                                                                 |\n",
    "| experience_level  | The job experience level categorized as follows: EN (Entry-level / Junior), MI (Mid-level / Intermediate), SE (Senior-level / Expert), EX (Executive-level / Director). |\n",
    "| employment_type   | Type of employment for the role: PT (Part-time), FT (Full-time), CT (Contract), FL (Freelance).                  |\n",
    "| job_title         | The role held during the year.                                                                                     |\n",
    "| salary            | Total gross salary amount paid.                                                                                    |\n",
    "| salary_currency   | Currency of the salary paid as an ISO 4217 currency code.                                                          |\n",
    "| salary_in_usd     | Salary converted to USD using statistical data from the BIS and central banks.                                      |\n",
    "| employee_residence| Employee's primary country of residence during the work year as an ISO 3166 country code.                          |\n",
    "| remote_ratio      | The percentage of work done remotely, categorized as: 0 (No remote work), 50 (Partially remote/hybrid), 100 (Fully remote).|\n",
    "| company_location  | Country of the employer's main office or contracting branch as an ISO 3166 country code.                          |\n",
    "| company_size      | The average number of employees in the company, categorized as: S (Less than 50 employees), M (50 to 250 employees), L (More than 250 employees). |\r\n",
    "\n"
   ]
  },
  {
   "cell_type": "markdown",
   "metadata": {
    "id": "_gXPCMKBPhWn"
   },
   "source": [
    "___\n",
    "\n",
    "### Table of content:\n",
    "#### Part 1: Explore datasets\n",
    "- 1.1: salaries_1\n",
    "- 1.2: salaries_2\n",
    "- 1.3: salaries_3\n",
    "- 1.4: salaries_4\n",
    "- 1.5: salaries_5\n",
    "- 1.6: salaries_6\n",
    "- 1.7: salaries_7\n",
    "- 1.8: salaries_8\n",
    "- 1.9: salaries_9\n",
    "#### Part 2: Create a cleaning dataframe\n",
    "- 2.1: Merging useful datasets\r",
    "- 2.2: Build a cleaning dataframe\n",
    "- 2.3: Choose target columns\n",
    "---"
   ]
  },
  {
   "cell_type": "code",
   "execution_count": 1,
   "metadata": {},
   "outputs": [],
   "source": [
    "# Basic packages\n",
    "import numpy as np\n",
    "import pandas as pd\n",
    "import os"
   ]
  },
  {
   "cell_type": "markdown",
   "metadata": {
    "tags": []
   },
   "source": [
    "### Par 1: Explore datasets"
   ]
  },
  {
   "cell_type": "markdown",
   "metadata": {},
   "source": [
    "#### 1.1. data salaries_1.csv"
   ]
  },
  {
   "cell_type": "code",
   "execution_count": 2,
   "metadata": {},
   "outputs": [
    {
     "data": {
      "text/html": [
       "<div>\n",
       "<style scoped>\n",
       "    .dataframe tbody tr th:only-of-type {\n",
       "        vertical-align: middle;\n",
       "    }\n",
       "\n",
       "    .dataframe tbody tr th {\n",
       "        vertical-align: top;\n",
       "    }\n",
       "\n",
       "    .dataframe thead th {\n",
       "        text-align: right;\n",
       "    }\n",
       "</style>\n",
       "<table border=\"1\" class=\"dataframe\">\n",
       "  <thead>\n",
       "    <tr style=\"text-align: right;\">\n",
       "      <th></th>\n",
       "      <th>work_year</th>\n",
       "      <th>experience_level</th>\n",
       "      <th>employment_type</th>\n",
       "      <th>job_title</th>\n",
       "      <th>salary</th>\n",
       "      <th>salary_currency</th>\n",
       "      <th>salary_in_usd</th>\n",
       "      <th>employee_residence</th>\n",
       "      <th>remote_ratio</th>\n",
       "      <th>company_location</th>\n",
       "      <th>company_size</th>\n",
       "    </tr>\n",
       "  </thead>\n",
       "  <tbody>\n",
       "    <tr>\n",
       "      <th>0</th>\n",
       "      <td>2024</td>\n",
       "      <td>EN</td>\n",
       "      <td>FL</td>\n",
       "      <td>Applied Data Scientist</td>\n",
       "      <td>30000</td>\n",
       "      <td>USD</td>\n",
       "      <td>30000</td>\n",
       "      <td>GB</td>\n",
       "      <td>100</td>\n",
       "      <td>GB</td>\n",
       "      <td>M</td>\n",
       "    </tr>\n",
       "    <tr>\n",
       "      <th>1</th>\n",
       "      <td>2024</td>\n",
       "      <td>EX</td>\n",
       "      <td>FT</td>\n",
       "      <td>Business Intelligence</td>\n",
       "      <td>230000</td>\n",
       "      <td>USD</td>\n",
       "      <td>230000</td>\n",
       "      <td>US</td>\n",
       "      <td>0</td>\n",
       "      <td>US</td>\n",
       "      <td>M</td>\n",
       "    </tr>\n",
       "    <tr>\n",
       "      <th>2</th>\n",
       "      <td>2024</td>\n",
       "      <td>EX</td>\n",
       "      <td>FT</td>\n",
       "      <td>Business Intelligence</td>\n",
       "      <td>176900</td>\n",
       "      <td>USD</td>\n",
       "      <td>176900</td>\n",
       "      <td>US</td>\n",
       "      <td>0</td>\n",
       "      <td>US</td>\n",
       "      <td>M</td>\n",
       "    </tr>\n",
       "    <tr>\n",
       "      <th>3</th>\n",
       "      <td>2024</td>\n",
       "      <td>SE</td>\n",
       "      <td>FT</td>\n",
       "      <td>Data Architect</td>\n",
       "      <td>171210</td>\n",
       "      <td>USD</td>\n",
       "      <td>171210</td>\n",
       "      <td>CA</td>\n",
       "      <td>0</td>\n",
       "      <td>CA</td>\n",
       "      <td>M</td>\n",
       "    </tr>\n",
       "    <tr>\n",
       "      <th>4</th>\n",
       "      <td>2024</td>\n",
       "      <td>SE</td>\n",
       "      <td>FT</td>\n",
       "      <td>Data Architect</td>\n",
       "      <td>92190</td>\n",
       "      <td>USD</td>\n",
       "      <td>92190</td>\n",
       "      <td>CA</td>\n",
       "      <td>0</td>\n",
       "      <td>CA</td>\n",
       "      <td>M</td>\n",
       "    </tr>\n",
       "    <tr>\n",
       "      <th>...</th>\n",
       "      <td>...</td>\n",
       "      <td>...</td>\n",
       "      <td>...</td>\n",
       "      <td>...</td>\n",
       "      <td>...</td>\n",
       "      <td>...</td>\n",
       "      <td>...</td>\n",
       "      <td>...</td>\n",
       "      <td>...</td>\n",
       "      <td>...</td>\n",
       "      <td>...</td>\n",
       "    </tr>\n",
       "    <tr>\n",
       "      <th>14293</th>\n",
       "      <td>2020</td>\n",
       "      <td>SE</td>\n",
       "      <td>FT</td>\n",
       "      <td>Data Scientist</td>\n",
       "      <td>412000</td>\n",
       "      <td>USD</td>\n",
       "      <td>412000</td>\n",
       "      <td>US</td>\n",
       "      <td>100</td>\n",
       "      <td>US</td>\n",
       "      <td>L</td>\n",
       "    </tr>\n",
       "    <tr>\n",
       "      <th>14294</th>\n",
       "      <td>2021</td>\n",
       "      <td>MI</td>\n",
       "      <td>FT</td>\n",
       "      <td>Principal Data Scientist</td>\n",
       "      <td>151000</td>\n",
       "      <td>USD</td>\n",
       "      <td>151000</td>\n",
       "      <td>US</td>\n",
       "      <td>100</td>\n",
       "      <td>US</td>\n",
       "      <td>L</td>\n",
       "    </tr>\n",
       "    <tr>\n",
       "      <th>14295</th>\n",
       "      <td>2020</td>\n",
       "      <td>EN</td>\n",
       "      <td>FT</td>\n",
       "      <td>Data Scientist</td>\n",
       "      <td>105000</td>\n",
       "      <td>USD</td>\n",
       "      <td>105000</td>\n",
       "      <td>US</td>\n",
       "      <td>100</td>\n",
       "      <td>US</td>\n",
       "      <td>S</td>\n",
       "    </tr>\n",
       "    <tr>\n",
       "      <th>14296</th>\n",
       "      <td>2020</td>\n",
       "      <td>EN</td>\n",
       "      <td>CT</td>\n",
       "      <td>Business Data Analyst</td>\n",
       "      <td>100000</td>\n",
       "      <td>USD</td>\n",
       "      <td>100000</td>\n",
       "      <td>US</td>\n",
       "      <td>100</td>\n",
       "      <td>US</td>\n",
       "      <td>L</td>\n",
       "    </tr>\n",
       "    <tr>\n",
       "      <th>14297</th>\n",
       "      <td>2021</td>\n",
       "      <td>SE</td>\n",
       "      <td>FT</td>\n",
       "      <td>Data Science Manager</td>\n",
       "      <td>7000000</td>\n",
       "      <td>INR</td>\n",
       "      <td>94665</td>\n",
       "      <td>IN</td>\n",
       "      <td>50</td>\n",
       "      <td>IN</td>\n",
       "      <td>L</td>\n",
       "    </tr>\n",
       "  </tbody>\n",
       "</table>\n",
       "<p>14298 rows × 11 columns</p>\n",
       "</div>"
      ],
      "text/plain": [
       "       work_year experience_level employment_type                 job_title  \\\n",
       "0           2024               EN              FL    Applied Data Scientist   \n",
       "1           2024               EX              FT     Business Intelligence   \n",
       "2           2024               EX              FT     Business Intelligence   \n",
       "3           2024               SE              FT            Data Architect   \n",
       "4           2024               SE              FT            Data Architect   \n",
       "...          ...              ...             ...                       ...   \n",
       "14293       2020               SE              FT            Data Scientist   \n",
       "14294       2021               MI              FT  Principal Data Scientist   \n",
       "14295       2020               EN              FT            Data Scientist   \n",
       "14296       2020               EN              CT     Business Data Analyst   \n",
       "14297       2021               SE              FT      Data Science Manager   \n",
       "\n",
       "        salary salary_currency  salary_in_usd employee_residence  \\\n",
       "0        30000             USD          30000                 GB   \n",
       "1       230000             USD         230000                 US   \n",
       "2       176900             USD         176900                 US   \n",
       "3       171210             USD         171210                 CA   \n",
       "4        92190             USD          92190                 CA   \n",
       "...        ...             ...            ...                ...   \n",
       "14293   412000             USD         412000                 US   \n",
       "14294   151000             USD         151000                 US   \n",
       "14295   105000             USD         105000                 US   \n",
       "14296   100000             USD         100000                 US   \n",
       "14297  7000000             INR          94665                 IN   \n",
       "\n",
       "       remote_ratio company_location company_size  \n",
       "0               100               GB            M  \n",
       "1                 0               US            M  \n",
       "2                 0               US            M  \n",
       "3                 0               CA            M  \n",
       "4                 0               CA            M  \n",
       "...             ...              ...          ...  \n",
       "14293           100               US            L  \n",
       "14294           100               US            L  \n",
       "14295           100               US            S  \n",
       "14296           100               US            L  \n",
       "14297            50               IN            L  \n",
       "\n",
       "[14298 rows x 11 columns]"
      ]
     },
     "metadata": {},
     "output_type": "display_data"
    }
   ],
   "source": [
    "# Loading dataset\n",
    "df1 = pd.read_csv('dataset_new/salaries_1.csv')\n",
    "\n",
    "# Take a look at the data\n",
    "display(df1)\n"
   ]
  },
  {
   "cell_type": "code",
   "execution_count": 3,
   "metadata": {
    "scrolled": true
   },
   "outputs": [
    {
     "name": "stdout",
     "output_type": "stream",
     "text": [
      "<class 'pandas.core.frame.DataFrame'>\n",
      "RangeIndex: 14298 entries, 0 to 14297\n",
      "Data columns (total 11 columns):\n",
      " #   Column              Non-Null Count  Dtype \n",
      "---  ------              --------------  ----- \n",
      " 0   work_year           14298 non-null  int64 \n",
      " 1   experience_level    14298 non-null  object\n",
      " 2   employment_type     14298 non-null  object\n",
      " 3   job_title           14298 non-null  object\n",
      " 4   salary              14298 non-null  int64 \n",
      " 5   salary_currency     14298 non-null  object\n",
      " 6   salary_in_usd       14298 non-null  int64 \n",
      " 7   employee_residence  14298 non-null  object\n",
      " 8   remote_ratio        14298 non-null  int64 \n",
      " 9   company_location    14298 non-null  object\n",
      " 10  company_size        14298 non-null  object\n",
      "dtypes: int64(4), object(7)\n",
      "memory usage: 1.2+ MB\n"
     ]
    }
   ],
   "source": [
    "df1.info()"
   ]
  },
  {
   "cell_type": "code",
   "execution_count": 4,
   "metadata": {},
   "outputs": [
    {
     "data": {
      "text/plain": [
       "(14298, 11)"
      ]
     },
     "execution_count": 4,
     "metadata": {},
     "output_type": "execute_result"
    }
   ],
   "source": [
    "df1.shape"
   ]
  },
  {
   "cell_type": "code",
   "execution_count": 5,
   "metadata": {
    "scrolled": true
   },
   "outputs": [
    {
     "data": {
      "text/plain": [
       "work_year             0\n",
       "experience_level      0\n",
       "employment_type       0\n",
       "job_title             0\n",
       "salary                0\n",
       "salary_currency       0\n",
       "salary_in_usd         0\n",
       "employee_residence    0\n",
       "remote_ratio          0\n",
       "company_location      0\n",
       "company_size          0\n",
       "dtype: int64"
      ]
     },
     "execution_count": 5,
     "metadata": {},
     "output_type": "execute_result"
    }
   ],
   "source": [
    "#check null data\n",
    "df1.isnull().sum()"
   ]
  },
  {
   "cell_type": "code",
   "execution_count": 6,
   "metadata": {},
   "outputs": [
    {
     "data": {
      "text/plain": [
       "0"
      ]
     },
     "execution_count": 6,
     "metadata": {},
     "output_type": "execute_result"
    }
   ],
   "source": [
    "# check duplicated rows and columns\n",
    "# Check for duplicated column\n",
    "df1.T.duplicated().sum()\n"
   ]
  },
  {
   "cell_type": "markdown",
   "metadata": {},
   "source": [
    "First dataset shows data with 11 columns without duplicated data and 14,298 rows. There is no null data. We will explore other dataset before deciding to check the duplicated rows."
   ]
  },
  {
   "cell_type": "markdown",
   "metadata": {},
   "source": [
    "#### 1.2. data salaries_2.csv"
   ]
  },
  {
   "cell_type": "code",
   "execution_count": 7,
   "metadata": {},
   "outputs": [],
   "source": [
    "# Loading dataset\n",
    "df2 = pd.read_csv('dataset_new/salaries_2.csv')\n"
   ]
  },
  {
   "cell_type": "code",
   "execution_count": 8,
   "metadata": {},
   "outputs": [
    {
     "name": "stdout",
     "output_type": "stream",
     "text": [
      "<class 'pandas.core.frame.DataFrame'>\n",
      "RangeIndex: 15154 entries, 0 to 15153\n",
      "Data columns (total 11 columns):\n",
      " #   Column              Non-Null Count  Dtype \n",
      "---  ------              --------------  ----- \n",
      " 0   work_year           15154 non-null  int64 \n",
      " 1   experience_level    15154 non-null  object\n",
      " 2   employment_type     15154 non-null  object\n",
      " 3   job_title           15154 non-null  object\n",
      " 4   salary              15154 non-null  int64 \n",
      " 5   salary_currency     15154 non-null  object\n",
      " 6   salary_in_usd       15154 non-null  int64 \n",
      " 7   employee_residence  15154 non-null  object\n",
      " 8   remote_ratio        15154 non-null  int64 \n",
      " 9   company_location    15154 non-null  object\n",
      " 10  company_size        15154 non-null  object\n",
      "dtypes: int64(4), object(7)\n",
      "memory usage: 1.3+ MB\n"
     ]
    }
   ],
   "source": [
    "df2.info()"
   ]
  },
  {
   "cell_type": "code",
   "execution_count": 9,
   "metadata": {},
   "outputs": [
    {
     "data": {
      "text/plain": [
       "(15154, 11)"
      ]
     },
     "execution_count": 9,
     "metadata": {},
     "output_type": "execute_result"
    }
   ],
   "source": [
    "df2.shape"
   ]
  },
  {
   "cell_type": "code",
   "execution_count": 10,
   "metadata": {
    "scrolled": true
   },
   "outputs": [
    {
     "data": {
      "text/plain": [
       "work_year             0\n",
       "experience_level      0\n",
       "employment_type       0\n",
       "job_title             0\n",
       "salary                0\n",
       "salary_currency       0\n",
       "salary_in_usd         0\n",
       "employee_residence    0\n",
       "remote_ratio          0\n",
       "company_location      0\n",
       "company_size          0\n",
       "dtype: int64"
      ]
     },
     "execution_count": 10,
     "metadata": {},
     "output_type": "execute_result"
    }
   ],
   "source": [
    "#check null data\n",
    "df2.isnull().sum()"
   ]
  },
  {
   "cell_type": "code",
   "execution_count": 11,
   "metadata": {},
   "outputs": [
    {
     "data": {
      "text/plain": [
       "0"
      ]
     },
     "execution_count": 11,
     "metadata": {},
     "output_type": "execute_result"
    }
   ],
   "source": [
    "# check duplicated rows and columns\n",
    "# Check for duplicated column\n",
    "df2.T.duplicated().sum()\n"
   ]
  },
  {
   "cell_type": "markdown",
   "metadata": {},
   "source": [
    "Similarly to dataset 1, dataset 2 also has 11 columns without duplicated and the dataset has 15,154 rows. "
   ]
  },
  {
   "cell_type": "markdown",
   "metadata": {},
   "source": [
    "#### 1.3. data salaries_3.csv"
   ]
  },
  {
   "cell_type": "code",
   "execution_count": 12,
   "metadata": {},
   "outputs": [],
   "source": [
    "# Loading dataset\n",
    "df3 = pd.read_csv('dataset_new/salaries_3.csv')"
   ]
  },
  {
   "cell_type": "code",
   "execution_count": 13,
   "metadata": {
    "scrolled": true
   },
   "outputs": [
    {
     "name": "stdout",
     "output_type": "stream",
     "text": [
      "<class 'pandas.core.frame.DataFrame'>\n",
      "RangeIndex: 14838 entries, 0 to 14837\n",
      "Data columns (total 11 columns):\n",
      " #   Column              Non-Null Count  Dtype \n",
      "---  ------              --------------  ----- \n",
      " 0   work_year           14838 non-null  int64 \n",
      " 1   experience_level    14838 non-null  object\n",
      " 2   employment_type     14838 non-null  object\n",
      " 3   job_title           14838 non-null  object\n",
      " 4   salary              14838 non-null  int64 \n",
      " 5   salary_currency     14838 non-null  object\n",
      " 6   salary_in_usd       14838 non-null  int64 \n",
      " 7   employee_residence  14838 non-null  object\n",
      " 8   remote_ratio        14838 non-null  int64 \n",
      " 9   company_location    14838 non-null  object\n",
      " 10  company_size        14838 non-null  object\n",
      "dtypes: int64(4), object(7)\n",
      "memory usage: 1.2+ MB\n"
     ]
    }
   ],
   "source": [
    "df3.info()"
   ]
  },
  {
   "cell_type": "code",
   "execution_count": 14,
   "metadata": {},
   "outputs": [
    {
     "data": {
      "text/plain": [
       "(14838, 11)"
      ]
     },
     "execution_count": 14,
     "metadata": {},
     "output_type": "execute_result"
    }
   ],
   "source": [
    "df3.shape"
   ]
  },
  {
   "cell_type": "code",
   "execution_count": 15,
   "metadata": {
    "scrolled": true
   },
   "outputs": [
    {
     "data": {
      "text/plain": [
       "work_year             0\n",
       "experience_level      0\n",
       "employment_type       0\n",
       "job_title             0\n",
       "salary                0\n",
       "salary_currency       0\n",
       "salary_in_usd         0\n",
       "employee_residence    0\n",
       "remote_ratio          0\n",
       "company_location      0\n",
       "company_size          0\n",
       "dtype: int64"
      ]
     },
     "execution_count": 15,
     "metadata": {},
     "output_type": "execute_result"
    }
   ],
   "source": [
    "#check null data\n",
    "df3.isnull().sum()"
   ]
  },
  {
   "cell_type": "code",
   "execution_count": 16,
   "metadata": {},
   "outputs": [
    {
     "data": {
      "text/plain": [
       "0"
      ]
     },
     "execution_count": 16,
     "metadata": {},
     "output_type": "execute_result"
    }
   ],
   "source": [
    "# check duplicated rows and columns\n",
    "# Check for duplicated column\n",
    "df3.T.duplicated().sum()\n"
   ]
  },
  {
   "cell_type": "markdown",
   "metadata": {},
   "source": [
    "dataset 3 has 14,834 rows of data with 11 columns names similar to dataset 1&2."
   ]
  },
  {
   "cell_type": "markdown",
   "metadata": {},
   "source": [
    "#### 1.4. data salaries_4.csv"
   ]
  },
  {
   "cell_type": "code",
   "execution_count": 17,
   "metadata": {},
   "outputs": [],
   "source": [
    "# Loading dataset\n",
    "df4 = pd.read_csv('dataset_new/salaries_4.csv')\n"
   ]
  },
  {
   "cell_type": "code",
   "execution_count": 18,
   "metadata": {
    "scrolled": true
   },
   "outputs": [
    {
     "name": "stdout",
     "output_type": "stream",
     "text": [
      "<class 'pandas.core.frame.DataFrame'>\n",
      "RangeIndex: 13972 entries, 0 to 13971\n",
      "Data columns (total 11 columns):\n",
      " #   Column              Non-Null Count  Dtype \n",
      "---  ------              --------------  ----- \n",
      " 0   work_year           13972 non-null  int64 \n",
      " 1   experience_level    13972 non-null  object\n",
      " 2   employment_type     13972 non-null  object\n",
      " 3   job_title           13972 non-null  object\n",
      " 4   salary              13972 non-null  int64 \n",
      " 5   salary_currency     13972 non-null  object\n",
      " 6   salary_in_usd       13972 non-null  int64 \n",
      " 7   employee_residence  13972 non-null  object\n",
      " 8   remote_ratio        13972 non-null  int64 \n",
      " 9   company_location    13972 non-null  object\n",
      " 10  company_size        13972 non-null  object\n",
      "dtypes: int64(4), object(7)\n",
      "memory usage: 1.2+ MB\n"
     ]
    }
   ],
   "source": [
    "df4.info()"
   ]
  },
  {
   "cell_type": "code",
   "execution_count": 19,
   "metadata": {},
   "outputs": [
    {
     "data": {
      "text/plain": [
       "(13972, 11)"
      ]
     },
     "execution_count": 19,
     "metadata": {},
     "output_type": "execute_result"
    }
   ],
   "source": [
    "df4.shape"
   ]
  },
  {
   "cell_type": "code",
   "execution_count": 20,
   "metadata": {
    "scrolled": true
   },
   "outputs": [
    {
     "data": {
      "text/plain": [
       "work_year             0\n",
       "experience_level      0\n",
       "employment_type       0\n",
       "job_title             0\n",
       "salary                0\n",
       "salary_currency       0\n",
       "salary_in_usd         0\n",
       "employee_residence    0\n",
       "remote_ratio          0\n",
       "company_location      0\n",
       "company_size          0\n",
       "dtype: int64"
      ]
     },
     "execution_count": 20,
     "metadata": {},
     "output_type": "execute_result"
    }
   ],
   "source": [
    "#check null data\n",
    "df4.isnull().sum()"
   ]
  },
  {
   "cell_type": "code",
   "execution_count": 21,
   "metadata": {},
   "outputs": [
    {
     "data": {
      "text/plain": [
       "0"
      ]
     },
     "execution_count": 21,
     "metadata": {},
     "output_type": "execute_result"
    }
   ],
   "source": [
    "# check duplicated rows and columns\n",
    "# Check for duplicated column\n",
    "df4.T.duplicated().sum()\n"
   ]
  },
  {
   "cell_type": "markdown",
   "metadata": {},
   "source": [
    "Dataset 4 has 13,972 rows. we will keep explore other datasets, if they are similar to all the columns orders, we will drop the duplicated rows then."
   ]
  },
  {
   "cell_type": "markdown",
   "metadata": {},
   "source": [
    "#### 1.5. data salaries_5.csv"
   ]
  },
  {
   "cell_type": "code",
   "execution_count": 22,
   "metadata": {},
   "outputs": [],
   "source": [
    "# Loading dataset\n",
    "df5 = pd.read_csv('dataset_new/salaries_5.csv')"
   ]
  },
  {
   "cell_type": "code",
   "execution_count": 23,
   "metadata": {
    "scrolled": true
   },
   "outputs": [
    {
     "name": "stdout",
     "output_type": "stream",
     "text": [
      "<class 'pandas.core.frame.DataFrame'>\n",
      "RangeIndex: 10670 entries, 0 to 10669\n",
      "Data columns (total 11 columns):\n",
      " #   Column              Non-Null Count  Dtype \n",
      "---  ------              --------------  ----- \n",
      " 0   work_year           10670 non-null  int64 \n",
      " 1   experience_level    10670 non-null  object\n",
      " 2   employment_type     10670 non-null  object\n",
      " 3   job_title           10670 non-null  object\n",
      " 4   salary              10670 non-null  int64 \n",
      " 5   salary_currency     10670 non-null  object\n",
      " 6   salary_in_usd       10670 non-null  int64 \n",
      " 7   employee_residence  10670 non-null  object\n",
      " 8   remote_ratio        10670 non-null  int64 \n",
      " 9   company_location    10670 non-null  object\n",
      " 10  company_size        10670 non-null  object\n",
      "dtypes: int64(4), object(7)\n",
      "memory usage: 917.1+ KB\n"
     ]
    }
   ],
   "source": [
    "df5.info()"
   ]
  },
  {
   "cell_type": "code",
   "execution_count": 24,
   "metadata": {},
   "outputs": [
    {
     "data": {
      "text/plain": [
       "(10670, 11)"
      ]
     },
     "execution_count": 24,
     "metadata": {},
     "output_type": "execute_result"
    }
   ],
   "source": [
    "df5.shape"
   ]
  },
  {
   "cell_type": "code",
   "execution_count": 25,
   "metadata": {
    "scrolled": true
   },
   "outputs": [
    {
     "data": {
      "text/plain": [
       "work_year             0\n",
       "experience_level      0\n",
       "employment_type       0\n",
       "job_title             0\n",
       "salary                0\n",
       "salary_currency       0\n",
       "salary_in_usd         0\n",
       "employee_residence    0\n",
       "remote_ratio          0\n",
       "company_location      0\n",
       "company_size          0\n",
       "dtype: int64"
      ]
     },
     "execution_count": 25,
     "metadata": {},
     "output_type": "execute_result"
    }
   ],
   "source": [
    "#check null data\n",
    "df5.isnull().sum()"
   ]
  },
  {
   "cell_type": "code",
   "execution_count": 26,
   "metadata": {},
   "outputs": [
    {
     "data": {
      "text/plain": [
       "0"
      ]
     },
     "execution_count": 26,
     "metadata": {},
     "output_type": "execute_result"
    }
   ],
   "source": [
    "# check duplicated rows and columns\n",
    "# Check for duplicated column\n",
    "df5.T.duplicated().sum()\n"
   ]
  },
  {
   "cell_type": "markdown",
   "metadata": {},
   "source": [
    "This data has 10670 rows and similar type of columns"
   ]
  },
  {
   "cell_type": "markdown",
   "metadata": {},
   "source": [
    "#### 1.6. data salaries_6.csv"
   ]
  },
  {
   "cell_type": "code",
   "execution_count": 27,
   "metadata": {},
   "outputs": [],
   "source": [
    "# Loading dataset\n",
    "df6 = pd.read_csv('dataset_new/salaries_6.csv')"
   ]
  },
  {
   "cell_type": "code",
   "execution_count": 28,
   "metadata": {
    "scrolled": true
   },
   "outputs": [
    {
     "name": "stdout",
     "output_type": "stream",
     "text": [
      "<class 'pandas.core.frame.DataFrame'>\n",
      "RangeIndex: 8805 entries, 0 to 8804\n",
      "Data columns (total 11 columns):\n",
      " #   Column              Non-Null Count  Dtype \n",
      "---  ------              --------------  ----- \n",
      " 0   work_year           8805 non-null   int64 \n",
      " 1   experience_level    8805 non-null   object\n",
      " 2   employment_type     8805 non-null   object\n",
      " 3   job_title           8805 non-null   object\n",
      " 4   salary              8805 non-null   int64 \n",
      " 5   salary_currency     8805 non-null   object\n",
      " 6   salary_in_usd       8805 non-null   int64 \n",
      " 7   employee_residence  8805 non-null   object\n",
      " 8   remote_ratio        8805 non-null   int64 \n",
      " 9   company_location    8805 non-null   object\n",
      " 10  company_size        8805 non-null   object\n",
      "dtypes: int64(4), object(7)\n",
      "memory usage: 756.8+ KB\n"
     ]
    }
   ],
   "source": [
    "df6.info()"
   ]
  },
  {
   "cell_type": "code",
   "execution_count": 29,
   "metadata": {},
   "outputs": [
    {
     "data": {
      "text/plain": [
       "(8805, 11)"
      ]
     },
     "execution_count": 29,
     "metadata": {},
     "output_type": "execute_result"
    }
   ],
   "source": [
    "df6.shape"
   ]
  },
  {
   "cell_type": "code",
   "execution_count": 30,
   "metadata": {
    "scrolled": true
   },
   "outputs": [
    {
     "data": {
      "text/plain": [
       "work_year             0\n",
       "experience_level      0\n",
       "employment_type       0\n",
       "job_title             0\n",
       "salary                0\n",
       "salary_currency       0\n",
       "salary_in_usd         0\n",
       "employee_residence    0\n",
       "remote_ratio          0\n",
       "company_location      0\n",
       "company_size          0\n",
       "dtype: int64"
      ]
     },
     "execution_count": 30,
     "metadata": {},
     "output_type": "execute_result"
    }
   ],
   "source": [
    "#check null data\n",
    "df6.isnull().sum()"
   ]
  },
  {
   "cell_type": "code",
   "execution_count": 31,
   "metadata": {},
   "outputs": [
    {
     "data": {
      "text/plain": [
       "0"
      ]
     },
     "execution_count": 31,
     "metadata": {},
     "output_type": "execute_result"
    }
   ],
   "source": [
    "# check duplicated rows and columns\n",
    "# Check for duplicated column\n",
    "df6.T.duplicated().sum()"
   ]
  },
  {
   "cell_type": "markdown",
   "metadata": {},
   "source": [
    "Dataset of 6 has 8805 rows. Same type of 11 columns."
   ]
  },
  {
   "cell_type": "markdown",
   "metadata": {},
   "source": [
    "#### 1.7. data salaries_7.csv"
   ]
  },
  {
   "cell_type": "code",
   "execution_count": 32,
   "metadata": {},
   "outputs": [],
   "source": [
    "# Loading dataset\n",
    "df7 = pd.read_csv('dataset_new/salaries_7.csv')"
   ]
  },
  {
   "cell_type": "code",
   "execution_count": 33,
   "metadata": {
    "scrolled": true
   },
   "outputs": [
    {
     "name": "stdout",
     "output_type": "stream",
     "text": [
      "<class 'pandas.core.frame.DataFrame'>\n",
      "RangeIndex: 7974 entries, 0 to 7973\n",
      "Data columns (total 11 columns):\n",
      " #   Column              Non-Null Count  Dtype \n",
      "---  ------              --------------  ----- \n",
      " 0   work_year           7974 non-null   int64 \n",
      " 1   experience_level    7974 non-null   object\n",
      " 2   employment_type     7974 non-null   object\n",
      " 3   job_title           7974 non-null   object\n",
      " 4   salary              7974 non-null   int64 \n",
      " 5   salary_currency     7974 non-null   object\n",
      " 6   salary_in_usd       7974 non-null   int64 \n",
      " 7   employee_residence  7974 non-null   object\n",
      " 8   remote_ratio        7974 non-null   int64 \n",
      " 9   company_location    7974 non-null   object\n",
      " 10  company_size        7974 non-null   object\n",
      "dtypes: int64(4), object(7)\n",
      "memory usage: 685.4+ KB\n"
     ]
    }
   ],
   "source": [
    "df7.info()"
   ]
  },
  {
   "cell_type": "code",
   "execution_count": 34,
   "metadata": {},
   "outputs": [
    {
     "data": {
      "text/plain": [
       "(7974, 11)"
      ]
     },
     "execution_count": 34,
     "metadata": {},
     "output_type": "execute_result"
    }
   ],
   "source": [
    "df7.shape"
   ]
  },
  {
   "cell_type": "code",
   "execution_count": 35,
   "metadata": {
    "scrolled": true
   },
   "outputs": [
    {
     "data": {
      "text/plain": [
       "work_year             0\n",
       "experience_level      0\n",
       "employment_type       0\n",
       "job_title             0\n",
       "salary                0\n",
       "salary_currency       0\n",
       "salary_in_usd         0\n",
       "employee_residence    0\n",
       "remote_ratio          0\n",
       "company_location      0\n",
       "company_size          0\n",
       "dtype: int64"
      ]
     },
     "execution_count": 35,
     "metadata": {},
     "output_type": "execute_result"
    }
   ],
   "source": [
    "#check null data\n",
    "df7.isnull().sum()"
   ]
  },
  {
   "cell_type": "code",
   "execution_count": 36,
   "metadata": {},
   "outputs": [
    {
     "data": {
      "text/plain": [
       "0"
      ]
     },
     "execution_count": 36,
     "metadata": {},
     "output_type": "execute_result"
    }
   ],
   "source": [
    "# check duplicated rows and columns\n",
    "# Check for duplicated column\n",
    "df7.T.duplicated().sum()\n"
   ]
  },
  {
   "cell_type": "markdown",
   "metadata": {},
   "source": [
    "Dataset 7 has 7974 rows and 11 cleaned columns."
   ]
  },
  {
   "cell_type": "markdown",
   "metadata": {},
   "source": [
    "#### 1.8. data salaries_8.csv"
   ]
  },
  {
   "cell_type": "code",
   "execution_count": 37,
   "metadata": {},
   "outputs": [],
   "source": [
    "# Loading dataset\n",
    "df8 = pd.read_csv('dataset_new/salaries_8.csv')\n"
   ]
  },
  {
   "cell_type": "code",
   "execution_count": 38,
   "metadata": {
    "scrolled": true
   },
   "outputs": [
    {
     "name": "stdout",
     "output_type": "stream",
     "text": [
      "<class 'pandas.core.frame.DataFrame'>\n",
      "RangeIndex: 3755 entries, 0 to 3754\n",
      "Data columns (total 11 columns):\n",
      " #   Column              Non-Null Count  Dtype \n",
      "---  ------              --------------  ----- \n",
      " 0   work_year           3755 non-null   int64 \n",
      " 1   experience_level    3755 non-null   object\n",
      " 2   employment_type     3755 non-null   object\n",
      " 3   job_title           3755 non-null   object\n",
      " 4   salary              3755 non-null   int64 \n",
      " 5   salary_currency     3755 non-null   object\n",
      " 6   salary_in_usd       3755 non-null   int64 \n",
      " 7   employee_residence  3755 non-null   object\n",
      " 8   remote_ratio        3755 non-null   int64 \n",
      " 9   company_location    3755 non-null   object\n",
      " 10  company_size        3755 non-null   object\n",
      "dtypes: int64(4), object(7)\n",
      "memory usage: 322.8+ KB\n"
     ]
    }
   ],
   "source": [
    "df8.info()"
   ]
  },
  {
   "cell_type": "code",
   "execution_count": 39,
   "metadata": {},
   "outputs": [
    {
     "data": {
      "text/plain": [
       "(3755, 11)"
      ]
     },
     "execution_count": 39,
     "metadata": {},
     "output_type": "execute_result"
    }
   ],
   "source": [
    "df8.shape"
   ]
  },
  {
   "cell_type": "code",
   "execution_count": 40,
   "metadata": {
    "scrolled": true
   },
   "outputs": [
    {
     "data": {
      "text/plain": [
       "work_year             0\n",
       "experience_level      0\n",
       "employment_type       0\n",
       "job_title             0\n",
       "salary                0\n",
       "salary_currency       0\n",
       "salary_in_usd         0\n",
       "employee_residence    0\n",
       "remote_ratio          0\n",
       "company_location      0\n",
       "company_size          0\n",
       "dtype: int64"
      ]
     },
     "execution_count": 40,
     "metadata": {},
     "output_type": "execute_result"
    }
   ],
   "source": [
    "#check null data\n",
    "df8.isnull().sum()"
   ]
  },
  {
   "cell_type": "code",
   "execution_count": 41,
   "metadata": {},
   "outputs": [
    {
     "data": {
      "text/plain": [
       "0"
      ]
     },
     "execution_count": 41,
     "metadata": {},
     "output_type": "execute_result"
    }
   ],
   "source": [
    "# check duplicated rows and columns\n",
    "# Check for duplicated column\n",
    "df8.T.duplicated().sum()"
   ]
  },
  {
   "cell_type": "markdown",
   "metadata": {},
   "source": [
    "There is 3755 rows and 11 columns in this set"
   ]
  },
  {
   "cell_type": "markdown",
   "metadata": {},
   "source": [
    "#### 1.9. data salaries_9.csv"
   ]
  },
  {
   "cell_type": "code",
   "execution_count": 42,
   "metadata": {},
   "outputs": [],
   "source": [
    "# Loading dataset\n",
    "df9 = pd.read_csv('dataset_new/salaries_9.csv')\n"
   ]
  },
  {
   "cell_type": "code",
   "execution_count": 43,
   "metadata": {
    "scrolled": true
   },
   "outputs": [
    {
     "name": "stdout",
     "output_type": "stream",
     "text": [
      "<class 'pandas.core.frame.DataFrame'>\n",
      "RangeIndex: 3755 entries, 0 to 3754\n",
      "Data columns (total 11 columns):\n",
      " #   Column              Non-Null Count  Dtype \n",
      "---  ------              --------------  ----- \n",
      " 0   work_year           3755 non-null   int64 \n",
      " 1   experience_level    3755 non-null   object\n",
      " 2   employment_type     3755 non-null   object\n",
      " 3   job_title           3755 non-null   object\n",
      " 4   salary              3755 non-null   int64 \n",
      " 5   salary_currency     3755 non-null   object\n",
      " 6   salary_in_usd       3755 non-null   int64 \n",
      " 7   employee_residence  3755 non-null   object\n",
      " 8   remote_ratio        3755 non-null   int64 \n",
      " 9   company_location    3755 non-null   object\n",
      " 10  company_size        3755 non-null   object\n",
      "dtypes: int64(4), object(7)\n",
      "memory usage: 322.8+ KB\n"
     ]
    }
   ],
   "source": [
    "df9.info()"
   ]
  },
  {
   "cell_type": "code",
   "execution_count": 44,
   "metadata": {},
   "outputs": [
    {
     "data": {
      "text/plain": [
       "(3755, 11)"
      ]
     },
     "execution_count": 44,
     "metadata": {},
     "output_type": "execute_result"
    }
   ],
   "source": [
    "df9.shape"
   ]
  },
  {
   "cell_type": "code",
   "execution_count": 45,
   "metadata": {
    "scrolled": true
   },
   "outputs": [
    {
     "data": {
      "text/plain": [
       "work_year             0\n",
       "experience_level      0\n",
       "employment_type       0\n",
       "job_title             0\n",
       "salary                0\n",
       "salary_currency       0\n",
       "salary_in_usd         0\n",
       "employee_residence    0\n",
       "remote_ratio          0\n",
       "company_location      0\n",
       "company_size          0\n",
       "dtype: int64"
      ]
     },
     "execution_count": 45,
     "metadata": {},
     "output_type": "execute_result"
    }
   ],
   "source": [
    "#check null data\n",
    "df9.isnull().sum()"
   ]
  },
  {
   "cell_type": "code",
   "execution_count": 46,
   "metadata": {},
   "outputs": [
    {
     "data": {
      "text/plain": [
       "0"
      ]
     },
     "execution_count": 46,
     "metadata": {},
     "output_type": "execute_result"
    }
   ],
   "source": [
    "# Check for duplicated column\n",
    "df9.T.duplicated().sum()\n"
   ]
  },
  {
   "cell_type": "markdown",
   "metadata": {},
   "source": [
    "That is the final dataset with 3755 rows and similar columns. Next step we will clean all the datasets."
   ]
  },
  {
   "cell_type": "markdown",
   "metadata": {},
   "source": [
    "It seems a clean dataset 1. We will explore other datasets as below."
   ]
  },
  {
   "cell_type": "markdown",
   "metadata": {},
   "source": [
    "### Par 2: Cleaning data"
   ]
  },
  {
   "cell_type": "markdown",
   "metadata": {},
   "source": [
    "#### 2.1: Merging useful datasets"
   ]
  },
  {
   "cell_type": "code",
   "execution_count": 47,
   "metadata": {},
   "outputs": [],
   "source": [
    "# List of DataFrames\n",
    "dfs = [df1, df2, df3, df4, df5, df6, df7, df8, df9]\n",
    "\n",
    "# Concatenate the DataFrames into a single DataFrame\n",
    "merged_df = pd.concat(dfs, ignore_index=True)\n",
    "\n",
    "# Optionally, you can reset the index if needed\n",
    "# merged_df.reset_index(drop=True, inplace=True)\n",
    "\n",
    "# Save the merged DataFrame to a new CSV file\n",
    "merged_df.to_csv('merged_salaries.csv', index=False)"
   ]
  },
  {
   "cell_type": "code",
   "execution_count": 48,
   "metadata": {},
   "outputs": [
    {
     "data": {
      "text/html": [
       "<div>\n",
       "<style scoped>\n",
       "    .dataframe tbody tr th:only-of-type {\n",
       "        vertical-align: middle;\n",
       "    }\n",
       "\n",
       "    .dataframe tbody tr th {\n",
       "        vertical-align: top;\n",
       "    }\n",
       "\n",
       "    .dataframe thead th {\n",
       "        text-align: right;\n",
       "    }\n",
       "</style>\n",
       "<table border=\"1\" class=\"dataframe\">\n",
       "  <thead>\n",
       "    <tr style=\"text-align: right;\">\n",
       "      <th></th>\n",
       "      <th>work_year</th>\n",
       "      <th>experience_level</th>\n",
       "      <th>employment_type</th>\n",
       "      <th>job_title</th>\n",
       "      <th>salary</th>\n",
       "      <th>salary_currency</th>\n",
       "      <th>salary_in_usd</th>\n",
       "      <th>employee_residence</th>\n",
       "      <th>remote_ratio</th>\n",
       "      <th>company_location</th>\n",
       "      <th>company_size</th>\n",
       "    </tr>\n",
       "  </thead>\n",
       "  <tbody>\n",
       "    <tr>\n",
       "      <th>0</th>\n",
       "      <td>2024</td>\n",
       "      <td>EN</td>\n",
       "      <td>FL</td>\n",
       "      <td>Applied Data Scientist</td>\n",
       "      <td>30000</td>\n",
       "      <td>USD</td>\n",
       "      <td>30000</td>\n",
       "      <td>GB</td>\n",
       "      <td>100</td>\n",
       "      <td>GB</td>\n",
       "      <td>M</td>\n",
       "    </tr>\n",
       "    <tr>\n",
       "      <th>1</th>\n",
       "      <td>2024</td>\n",
       "      <td>EX</td>\n",
       "      <td>FT</td>\n",
       "      <td>Business Intelligence</td>\n",
       "      <td>230000</td>\n",
       "      <td>USD</td>\n",
       "      <td>230000</td>\n",
       "      <td>US</td>\n",
       "      <td>0</td>\n",
       "      <td>US</td>\n",
       "      <td>M</td>\n",
       "    </tr>\n",
       "    <tr>\n",
       "      <th>2</th>\n",
       "      <td>2024</td>\n",
       "      <td>EX</td>\n",
       "      <td>FT</td>\n",
       "      <td>Business Intelligence</td>\n",
       "      <td>176900</td>\n",
       "      <td>USD</td>\n",
       "      <td>176900</td>\n",
       "      <td>US</td>\n",
       "      <td>0</td>\n",
       "      <td>US</td>\n",
       "      <td>M</td>\n",
       "    </tr>\n",
       "    <tr>\n",
       "      <th>3</th>\n",
       "      <td>2024</td>\n",
       "      <td>SE</td>\n",
       "      <td>FT</td>\n",
       "      <td>Data Architect</td>\n",
       "      <td>171210</td>\n",
       "      <td>USD</td>\n",
       "      <td>171210</td>\n",
       "      <td>CA</td>\n",
       "      <td>0</td>\n",
       "      <td>CA</td>\n",
       "      <td>M</td>\n",
       "    </tr>\n",
       "    <tr>\n",
       "      <th>4</th>\n",
       "      <td>2024</td>\n",
       "      <td>SE</td>\n",
       "      <td>FT</td>\n",
       "      <td>Data Architect</td>\n",
       "      <td>92190</td>\n",
       "      <td>USD</td>\n",
       "      <td>92190</td>\n",
       "      <td>CA</td>\n",
       "      <td>0</td>\n",
       "      <td>CA</td>\n",
       "      <td>M</td>\n",
       "    </tr>\n",
       "  </tbody>\n",
       "</table>\n",
       "</div>"
      ],
      "text/plain": [
       "   work_year experience_level employment_type               job_title  salary  \\\n",
       "0       2024               EN              FL  Applied Data Scientist   30000   \n",
       "1       2024               EX              FT   Business Intelligence  230000   \n",
       "2       2024               EX              FT   Business Intelligence  176900   \n",
       "3       2024               SE              FT          Data Architect  171210   \n",
       "4       2024               SE              FT          Data Architect   92190   \n",
       "\n",
       "  salary_currency  salary_in_usd employee_residence  remote_ratio  \\\n",
       "0             USD          30000                 GB           100   \n",
       "1             USD         230000                 US             0   \n",
       "2             USD         176900                 US             0   \n",
       "3             USD         171210                 CA             0   \n",
       "4             USD          92190                 CA             0   \n",
       "\n",
       "  company_location company_size  \n",
       "0               GB            M  \n",
       "1               US            M  \n",
       "2               US            M  \n",
       "3               CA            M  \n",
       "4               CA            M  "
      ]
     },
     "execution_count": 48,
     "metadata": {},
     "output_type": "execute_result"
    }
   ],
   "source": [
    "merged_df.head()"
   ]
  },
  {
   "cell_type": "code",
   "execution_count": 49,
   "metadata": {},
   "outputs": [
    {
     "data": {
      "text/plain": [
       "(93221, 11)"
      ]
     },
     "execution_count": 49,
     "metadata": {},
     "output_type": "execute_result"
    }
   ],
   "source": [
    "merged_df.shape"
   ]
  },
  {
   "cell_type": "code",
   "execution_count": 50,
   "metadata": {},
   "outputs": [
    {
     "name": "stdout",
     "output_type": "stream",
     "text": [
      "<class 'pandas.core.frame.DataFrame'>\n",
      "RangeIndex: 93221 entries, 0 to 93220\n",
      "Data columns (total 11 columns):\n",
      " #   Column              Non-Null Count  Dtype \n",
      "---  ------              --------------  ----- \n",
      " 0   work_year           93221 non-null  int64 \n",
      " 1   experience_level    93221 non-null  object\n",
      " 2   employment_type     93221 non-null  object\n",
      " 3   job_title           93221 non-null  object\n",
      " 4   salary              93221 non-null  int64 \n",
      " 5   salary_currency     93221 non-null  object\n",
      " 6   salary_in_usd       93221 non-null  int64 \n",
      " 7   employee_residence  93221 non-null  object\n",
      " 8   remote_ratio        93221 non-null  int64 \n",
      " 9   company_location    93221 non-null  object\n",
      " 10  company_size        93221 non-null  object\n",
      "dtypes: int64(4), object(7)\n",
      "memory usage: 7.8+ MB\n"
     ]
    }
   ],
   "source": [
    "merged_df.info()"
   ]
  },
  {
   "cell_type": "markdown",
   "metadata": {},
   "source": [
    "#### 2.2: Build a cleaning dataframe"
   ]
  },
  {
   "cell_type": "code",
   "execution_count": 51,
   "metadata": {},
   "outputs": [
    {
     "data": {
      "text/plain": [
       "0"
      ]
     },
     "execution_count": 51,
     "metadata": {},
     "output_type": "execute_result"
    }
   ],
   "source": [
    "# Check for duplicated column\n",
    "merged_df.T.duplicated().sum()"
   ]
  },
  {
   "cell_type": "code",
   "execution_count": 52,
   "metadata": {},
   "outputs": [
    {
     "data": {
      "text/plain": [
       "83745"
      ]
     },
     "execution_count": 52,
     "metadata": {},
     "output_type": "execute_result"
    }
   ],
   "source": [
    "#check the duplcated rows\n",
    "merged_df.duplicated().sum()"
   ]
  },
  {
   "cell_type": "code",
   "execution_count": 53,
   "metadata": {},
   "outputs": [
    {
     "data": {
      "text/plain": [
       "work_year             0\n",
       "experience_level      0\n",
       "employment_type       0\n",
       "job_title             0\n",
       "salary                0\n",
       "salary_currency       0\n",
       "salary_in_usd         0\n",
       "employee_residence    0\n",
       "remote_ratio          0\n",
       "company_location      0\n",
       "company_size          0\n",
       "dtype: int64"
      ]
     },
     "execution_count": 53,
     "metadata": {},
     "output_type": "execute_result"
    }
   ],
   "source": [
    "#check for null data\n",
    "#check null data\n",
    "df3.isnull().sum()"
   ]
  },
  {
   "cell_type": "code",
   "execution_count": 54,
   "metadata": {},
   "outputs": [],
   "source": [
    "# Drop the duplicated rows \n",
    "merged_df = merged_df.drop_duplicates()"
   ]
  },
  {
   "cell_type": "code",
   "execution_count": 55,
   "metadata": {},
   "outputs": [
    {
     "data": {
      "text/plain": [
       "0"
      ]
     },
     "execution_count": 55,
     "metadata": {},
     "output_type": "execute_result"
    }
   ],
   "source": [
    "#check the duplcated rows again\n",
    "merged_df.duplicated().sum()"
   ]
  },
  {
   "cell_type": "code",
   "execution_count": 56,
   "metadata": {},
   "outputs": [
    {
     "data": {
      "text/plain": [
       "(9476, 11)"
      ]
     },
     "execution_count": 56,
     "metadata": {},
     "output_type": "execute_result"
    }
   ],
   "source": [
    "merged_df.shape"
   ]
  },
  {
   "cell_type": "code",
   "execution_count": 57,
   "metadata": {},
   "outputs": [
    {
     "name": "stdout",
     "output_type": "stream",
     "text": [
      "<class 'pandas.core.frame.DataFrame'>\n",
      "Index: 9476 entries, 0 to 89446\n",
      "Data columns (total 11 columns):\n",
      " #   Column              Non-Null Count  Dtype \n",
      "---  ------              --------------  ----- \n",
      " 0   work_year           9476 non-null   int64 \n",
      " 1   experience_level    9476 non-null   object\n",
      " 2   employment_type     9476 non-null   object\n",
      " 3   job_title           9476 non-null   object\n",
      " 4   salary              9476 non-null   int64 \n",
      " 5   salary_currency     9476 non-null   object\n",
      " 6   salary_in_usd       9476 non-null   int64 \n",
      " 7   employee_residence  9476 non-null   object\n",
      " 8   remote_ratio        9476 non-null   int64 \n",
      " 9   company_location    9476 non-null   object\n",
      " 10  company_size        9476 non-null   object\n",
      "dtypes: int64(4), object(7)\n",
      "memory usage: 888.4+ KB\n"
     ]
    }
   ],
   "source": [
    "merged_df.info()"
   ]
  },
  {
   "cell_type": "markdown",
   "metadata": {},
   "source": [
    "There are a large drop from duplicated rows from totally 9 datasets. However, there are random datasets with similar columns so there are high chance of duplicated data. The cleaned data contain 9,476 rows and 11 columns without null or duplicated data. It will be ready for EDA and modeling process."
   ]
  },
  {
   "cell_type": "markdown",
   "metadata": {},
   "source": [
    "Then we will create a new merged_df.csv file in the same folder for the next step."
   ]
  },
  {
   "cell_type": "code",
   "execution_count": 61,
   "metadata": {},
   "outputs": [],
   "source": [
    "# Define the directory path\n",
    "directory = 'dataset_new/'\n",
    "\n",
    "# Initialize an empty DataFrame to store the merged data\n",
    "merged_df = pd.DataFrame()\n",
    "\n",
    "# Loop through each file in the directory\n",
    "for filename in os.listdir(directory):\n",
    "    if filename.endswith(\".csv\"):\n",
    "        # Read the CSV file\n",
    "        filepath = os.path.join(directory, filename)\n",
    "        df = pd.read_csv(filepath)\n",
    "        # Merge with the existing DataFrame\n",
    "        merged_df = pd.concat([merged_df, df], ignore_index=True)\n",
    "\n",
    "# Drop duplicates\n",
    "merged_df = merged_df.drop_duplicates()\n",
    "\n",
    "# Save the cleaned, merged DataFrame as a new CSV file\n",
    "merged_df.to_csv(os.path.join(directory, 'cleaned_merged_df.csv'), index=False)"
   ]
  },
  {
   "cell_type": "markdown",
   "metadata": {},
   "source": [
    "#### 2.3: Choose target columns"
   ]
  },
  {
   "cell_type": "markdown",
   "metadata": {},
   "source": [
    "We will predict the salary trend so there are 3 columns relating to money which are salary, salary_in_usd and salary_currency. For the uniform data, we will choose salary_in_usd and drop other columns."
   ]
  },
  {
   "cell_type": "code",
   "execution_count": 59,
   "metadata": {},
   "outputs": [],
   "source": [
    "# Drop the 'salary' and 'salary_currency' columns from the merged DataFrame\n",
    "merged_df.drop(['salary', 'salary_currency'], axis=1, inplace=True)"
   ]
  },
  {
   "cell_type": "code",
   "execution_count": 60,
   "metadata": {},
   "outputs": [
    {
     "data": {
      "text/html": [
       "<div>\n",
       "<style scoped>\n",
       "    .dataframe tbody tr th:only-of-type {\n",
       "        vertical-align: middle;\n",
       "    }\n",
       "\n",
       "    .dataframe tbody tr th {\n",
       "        vertical-align: top;\n",
       "    }\n",
       "\n",
       "    .dataframe thead th {\n",
       "        text-align: right;\n",
       "    }\n",
       "</style>\n",
       "<table border=\"1\" class=\"dataframe\">\n",
       "  <thead>\n",
       "    <tr style=\"text-align: right;\">\n",
       "      <th></th>\n",
       "      <th>work_year</th>\n",
       "      <th>experience_level</th>\n",
       "      <th>employment_type</th>\n",
       "      <th>job_title</th>\n",
       "      <th>salary_in_usd</th>\n",
       "      <th>employee_residence</th>\n",
       "      <th>remote_ratio</th>\n",
       "      <th>company_location</th>\n",
       "      <th>company_size</th>\n",
       "    </tr>\n",
       "  </thead>\n",
       "  <tbody>\n",
       "    <tr>\n",
       "      <th>0</th>\n",
       "      <td>2024</td>\n",
       "      <td>EN</td>\n",
       "      <td>FL</td>\n",
       "      <td>Applied Data Scientist</td>\n",
       "      <td>30000</td>\n",
       "      <td>GB</td>\n",
       "      <td>100</td>\n",
       "      <td>GB</td>\n",
       "      <td>M</td>\n",
       "    </tr>\n",
       "    <tr>\n",
       "      <th>1</th>\n",
       "      <td>2024</td>\n",
       "      <td>EX</td>\n",
       "      <td>FT</td>\n",
       "      <td>Business Intelligence</td>\n",
       "      <td>230000</td>\n",
       "      <td>US</td>\n",
       "      <td>0</td>\n",
       "      <td>US</td>\n",
       "      <td>M</td>\n",
       "    </tr>\n",
       "    <tr>\n",
       "      <th>2</th>\n",
       "      <td>2024</td>\n",
       "      <td>EX</td>\n",
       "      <td>FT</td>\n",
       "      <td>Business Intelligence</td>\n",
       "      <td>176900</td>\n",
       "      <td>US</td>\n",
       "      <td>0</td>\n",
       "      <td>US</td>\n",
       "      <td>M</td>\n",
       "    </tr>\n",
       "    <tr>\n",
       "      <th>3</th>\n",
       "      <td>2024</td>\n",
       "      <td>SE</td>\n",
       "      <td>FT</td>\n",
       "      <td>Data Architect</td>\n",
       "      <td>171210</td>\n",
       "      <td>CA</td>\n",
       "      <td>0</td>\n",
       "      <td>CA</td>\n",
       "      <td>M</td>\n",
       "    </tr>\n",
       "    <tr>\n",
       "      <th>4</th>\n",
       "      <td>2024</td>\n",
       "      <td>SE</td>\n",
       "      <td>FT</td>\n",
       "      <td>Data Architect</td>\n",
       "      <td>92190</td>\n",
       "      <td>CA</td>\n",
       "      <td>0</td>\n",
       "      <td>CA</td>\n",
       "      <td>M</td>\n",
       "    </tr>\n",
       "  </tbody>\n",
       "</table>\n",
       "</div>"
      ],
      "text/plain": [
       "   work_year experience_level employment_type               job_title  \\\n",
       "0       2024               EN              FL  Applied Data Scientist   \n",
       "1       2024               EX              FT   Business Intelligence   \n",
       "2       2024               EX              FT   Business Intelligence   \n",
       "3       2024               SE              FT          Data Architect   \n",
       "4       2024               SE              FT          Data Architect   \n",
       "\n",
       "   salary_in_usd employee_residence  remote_ratio company_location  \\\n",
       "0          30000                 GB           100               GB   \n",
       "1         230000                 US             0               US   \n",
       "2         176900                 US             0               US   \n",
       "3         171210                 CA             0               CA   \n",
       "4          92190                 CA             0               CA   \n",
       "\n",
       "  company_size  \n",
       "0            M  \n",
       "1            M  \n",
       "2            M  \n",
       "3            M  \n",
       "4            M  "
      ]
     },
     "execution_count": 60,
     "metadata": {},
     "output_type": "execute_result"
    }
   ],
   "source": [
    "merged_df.head()"
   ]
  },
  {
   "cell_type": "markdown",
   "metadata": {},
   "source": [
    "The merged_df is ready for the reprocessing and modeling process in the next jupiter notebook."
   ]
  },
  {
   "cell_type": "markdown",
   "metadata": {},
   "source": [
    "--- to be continued--"
   ]
  },
  {
   "cell_type": "code",
   "execution_count": null,
   "metadata": {},
   "outputs": [],
   "source": []
  }
 ],
 "metadata": {
  "kernelspec": {
   "display_name": "Python 3 (ipykernel)",
   "language": "python",
   "name": "python3"
  },
  "language_info": {
   "codemirror_mode": {
    "name": "ipython",
    "version": 3
   },
   "file_extension": ".py",
   "mimetype": "text/x-python",
   "name": "python",
   "nbconvert_exporter": "python",
   "pygments_lexer": "ipython3",
   "version": "3.11.5"
  }
 },
 "nbformat": 4,
 "nbformat_minor": 4
}
